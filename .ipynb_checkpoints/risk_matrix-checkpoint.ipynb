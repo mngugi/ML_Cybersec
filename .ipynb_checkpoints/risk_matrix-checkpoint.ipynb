{
 "cells": [
  {
   "cell_type": "code",
   "execution_count": 2,
   "id": "e4e3328b-3252-4cf4-b025-c5a1b7300d01",
   "metadata": {},
   "outputs": [
    {
     "name": "stdout",
     "output_type": "stream",
     "text": [
      "Risk Assessment Matrix:\n",
      "                  Minor      Serious     Critical  Catastrophic\n",
      "Improbable     Low Risk     Low Risk     Low Risk   Medium Risk\n",
      "Remote         Low Risk     Low Risk  Medium Risk   Medium Risk\n",
      "Occasional     Low Risk  Medium Risk  Medium Risk     High Risk\n",
      "Probable    Medium Risk  Medium Risk    High Risk     High Risk\n",
      "Frequent    Medium Risk    High Risk    High Risk  Extreme Risk\n",
      "\n",
      "Components of the Risk Assessment Matrix:\n",
      "Likelihood (Frequency of Occurrence):\n",
      "\n",
      "> Frequent: Vulnerability is almost certain to be exploited.\n",
      "> Probable: Vulnerability is likely to be exploited occasionally.\n",
      "> Occasional: Vulnerability may be exploited, but not often.\n",
      "> Remote: Vulnerability is unlikely to be exploited.\n",
      "> Improbable: Exploitation is very unlikely.\n",
      "\n"
     ]
    }
   ],
   "source": [
    "import pandas as pd\n",
    "import pyfiglet # type: ignore\n",
    "\n",
    "def display_title(title):\n",
    "    ascii_art = pyfiglet.figlet_format(title)\n",
    "    print(ascii_art)\n",
    "\n",
    "if __name__ == \"__main__\":\n",
    "    display_title(\"Risk Matrix\")\n",
    "\n",
    "# Define the likelihood categories\n",
    "likelihood_categories = [\"Improbable\", \"Remote\", \"Occasional\", \"Probable\", \"Frequent\"]\n",
    "\n",
    "# Define the impact categories\n",
    "impact_categories = [\"Minor\", \"Serious\", \"Critical\", \"Catastrophic\"]\n",
    "\n",
    "# Create the risk matrix using a dictionary of dictionaries\n",
    "risk_matrix = {\n",
    "    \"Improbable\": {\"Minor\": \"Low Risk\", \"Serious\": \"Low Risk\", \"Critical\": \"Low Risk\", \"Catastrophic\": \"Medium Risk\"},\n",
    "    \"Remote\": {\"Minor\": \"Low Risk\", \"Serious\": \"Low Risk\", \"Critical\": \"Medium Risk\", \"Catastrophic\": \"Medium Risk\"},\n",
    "    \"Occasional\": {\"Minor\": \"Low Risk\", \"Serious\": \"Medium Risk\", \"Critical\": \"Medium Risk\", \"Catastrophic\": \"High Risk\"},\n",
    "    \"Probable\": {\"Minor\": \"Medium Risk\", \"Serious\": \"Medium Risk\", \"Critical\": \"High Risk\", \"Catastrophic\": \"High Risk\"},\n",
    "    \"Frequent\": {\"Minor\": \"Medium Risk\", \"Serious\": \"High Risk\", \"Critical\": \"High Risk\", \"Catastrophic\": \"Extreme Risk\"},\n",
    "}\n",
    "\n",
    "# Convert the risk matrix into a pandas DataFrame for easier visualization\n",
    "risk_matrix_df = pd.DataFrame(risk_matrix, index=impact_categories).T\n",
    "\n",
    "# Display the risk matrix\n",
    "print(\"Risk Assessment Matrix:\")\n",
    "print(risk_matrix_df)\n",
    "\n",
    "a = '''\n",
    "Components of the Risk Assessment Matrix:\n",
    "Likelihood (Frequency of Occurrence):\n",
    "\n",
    "> Frequent: Vulnerability is almost certain to be exploited.\n",
    "> Probable: Vulnerability is likely to be exploited occasionally.\n",
    "> Occasional: Vulnerability may be exploited, but not often.\n",
    "> Remote: Vulnerability is unlikely to be exploited.\n",
    "> Improbable: Exploitation is very unlikely.\n",
    "'''\n",
    "print(a)\n"
   ]
  },
  {
   "cell_type": "code",
   "execution_count": null,
   "id": "f05978a1-4c18-4c6f-b3c8-3a54d41c3745",
   "metadata": {},
   "outputs": [],
   "source": []
  }
 ],
 "metadata": {
  "kernelspec": {
   "display_name": "Python 3 (ipykernel)",
   "language": "python",
   "name": "python3"
  },
  "language_info": {
   "codemirror_mode": {
    "name": "ipython",
    "version": 3
   },
   "file_extension": ".py",
   "mimetype": "text/x-python",
   "name": "python",
   "nbconvert_exporter": "python",
   "pygments_lexer": "ipython3",
   "version": "3.13.1"
  }
 },
 "nbformat": 4,
 "nbformat_minor": 5
}
