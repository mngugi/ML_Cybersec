{
 "cells": [
  {
   "cell_type": "code",
   "execution_count": null,
   "id": "b84b2b35-98c7-4b17-a72a-7ab2ecd3633c",
   "metadata": {},
   "outputs": [],
   "source": [
    "import subprocess\n",
    "import socket\n",
    "import re\n",
    "\n",
    "def get_active_connections():\n",
    "    # Run the netstat command and get output\n",
    "    result = subprocess.run(['netstat', '-tun'], capture_output=True, text=True)\n",
    "    lines = result.stdout.splitlines()[2:]  # Skip headers\n",
    "\n",
    "    connections = []\n",
    "    for line in lines:\n",
    "        parts = re.split(r'\\s+', line.strip())\n",
    "        if len(parts) >= 5:\n",
    "            proto = parts[0]\n",
    "            local_address = parts[3]\n",
    "            foreign_address = parts[4]\n",
    "            connections.append((proto, local_address, foreign_address))\n",
    "    return connections\n",
    "\n",
    "def resolve_domain(ip):\n",
    "    try:\n",
    "        return socket.gethostbyaddr(ip)[0]\n",
    "    except:\n",
    "        return \"Unknown\"\n",
    "\n",
    "def analyze():\n",
    "    conns = get_active_connections()\n",
    "    print(f\"{'Proto':<6} {'Local':<22} {'Remote':<22} {'Domain':<30}\")\n",
    "    print(\"-\" * 80)\n",
    "    for proto, local, remote in conns:\n",
    "        remote_ip = remote.split(':')[0]\n",
    "        domain = resolve_domain(remote_ip)\n",
    "        print(f\"{proto:<6} {local:<22} {remote:<22} {domain:<30}\")\n",
    "\n",
    "if __name__ == '__main__':\n",
    "    analyze()\n"
   ]
  }
 ],
 "metadata": {
  "kernelspec": {
   "display_name": "Python 3 (ipykernel)",
   "language": "python",
   "name": "python3"
  },
  "language_info": {
   "codemirror_mode": {
    "name": "ipython",
    "version": 3
   },
   "file_extension": ".py",
   "mimetype": "text/x-python",
   "name": "python",
   "nbconvert_exporter": "python",
   "pygments_lexer": "ipython3",
   "version": "3.12.2"
  }
 },
 "nbformat": 4,
 "nbformat_minor": 5
}
