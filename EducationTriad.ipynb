{
 "cells": [
  {
   "cell_type": "code",
   "execution_count": 1,
   "id": "47c24121-1de5-428d-bd23-e1b05ff6b46e",
   "metadata": {},
   "outputs": [
    {
     "ename": "ModuleNotFoundError",
     "evalue": "No module named 'networkx'",
     "output_type": "error",
     "traceback": [
      "\u001b[0;31m---------------------------------------------------------------------------\u001b[0m",
      "\u001b[0;31mModuleNotFoundError\u001b[0m                       Traceback (most recent call last)",
      "Cell \u001b[0;32mIn[1], line 1\u001b[0m\n\u001b[0;32m----> 1\u001b[0m \u001b[38;5;28;01mimport\u001b[39;00m \u001b[38;5;21;01mnetworkx\u001b[39;00m \u001b[38;5;28;01mas\u001b[39;00m \u001b[38;5;21;01mnx\u001b[39;00m\n\u001b[1;32m      2\u001b[0m \u001b[38;5;28;01mimport\u001b[39;00m \u001b[38;5;21;01mmatplotlib\u001b[39;00m\u001b[38;5;21;01m.\u001b[39;00m\u001b[38;5;21;01mpyplot\u001b[39;00m \u001b[38;5;28;01mas\u001b[39;00m \u001b[38;5;21;01mplt\u001b[39;00m\n\u001b[1;32m      4\u001b[0m \u001b[38;5;66;03m# Create a graph\u001b[39;00m\n",
      "\u001b[0;31mModuleNotFoundError\u001b[0m: No module named 'networkx'"
     ]
    }
   ],
   "source": [
    "import networkx as nx\n",
    "import matplotlib.pyplot as plt\n",
    "\n",
    "# Create a graph\n",
    "G = nx.Graph()\n",
    "\n",
    "# Add nodes with weights\n",
    "node_weights = {\n",
    "    \"Student\": 10,  # Assign more weight to the Student node\n",
    "    \"Teacher\": 5,\n",
    "    \"Parent\": 5,\n",
    "}\n",
    "\n",
    "# Add nodes to the graph\n",
    "for node, weight in node_weights.items():\n",
    "    G.add_node(node, weight=weight)\n",
    "\n",
    "# Add edges with default weights\n",
    "G.add_edge(\"Student\", \"Teacher\", weight=3)\n",
    "G.add_edge(\"Student\", \"Parent\", weight=3)\n",
    "G.add_edge(\"Teacher\", \"Parent\", weight=1)\n",
    "\n",
    "# Draw the graph\n",
    "pos = nx.spring_layout(G)  # Positions for nodes\n",
    "plt.figure(figsize=(8, 6))\n",
    "\n",
    "# Draw nodes with size proportional to their weight\n",
    "node_sizes = [G.nodes[node][\"weight\"] * 100 for node in G.nodes]\n",
    "nx.draw_networkx_nodes(G, pos, node_size=node_sizes, node_color=\"skyblue\")\n",
    "\n",
    "# Draw edges with labels for weights\n",
    "nx.draw_networkx_edges(G, pos, width=2, edge_color=\"gray\")\n",
    "edge_labels = nx.get_edge_attributes(G, \"weight\")\n",
    "nx.draw_networkx_edge_labels(G, pos, edge_labels=edge_labels)\n",
    "\n",
    "# Draw node labels\n",
    "nx.draw_networkx_labels(G, pos, font_size=12, font_color=\"black\")\n",
    "\n",
    "# Display the graph\n",
    "plt.title(\"Graph with More Weight on the Student Node\")\n",
    "plt.axis(\"off\")\n",
    "plt.show()\n"
   ]
  },
  {
   "cell_type": "code",
   "execution_count": 2,
   "id": "2779369c-21bd-4ce1-bbdf-a0c2025e4016",
   "metadata": {},
   "outputs": [
    {
     "name": "stdout",
     "output_type": "stream",
     "text": [
      "Defaulting to user installation because normal site-packages is not writeable\n",
      "Collecting networkx\n",
      "  Downloading networkx-3.4.2-py3-none-any.whl.metadata (6.3 kB)\n",
      "Downloading networkx-3.4.2-py3-none-any.whl (1.7 MB)\n",
      "\u001b[2K   \u001b[38;2;114;156;31m━━━━━━━━━━━━━━━━━━━━━━━━━━━━━━━━━━━━━━━━\u001b[0m \u001b[32m1.7/1.7 MB\u001b[0m \u001b[31m6.4 MB/s\u001b[0m eta \u001b[36m0:00:00\u001b[0m MB/s\u001b[0m eta \u001b[36m0:00:01\u001b[0m\n",
      "Installing collected packages: networkx\n",
      "Successfully installed networkx-3.4.2\n"
     ]
    }
   ],
   "source": [
    "!pip install networkx"
   ]
  },
  {
   "cell_type": "code",
   "execution_count": null,
   "id": "787fe09d-a9e3-4955-81ba-11d4327428fb",
   "metadata": {},
   "outputs": [],
   "source": []
  }
 ],
 "metadata": {
  "kernelspec": {
   "display_name": "Python 3 (ipykernel)",
   "language": "python",
   "name": "python3"
  },
  "language_info": {
   "codemirror_mode": {
    "name": "ipython",
    "version": 3
   },
   "file_extension": ".py",
   "mimetype": "text/x-python",
   "name": "python",
   "nbconvert_exporter": "python",
   "pygments_lexer": "ipython3",
   "version": "3.13.1"
  }
 },
 "nbformat": 4,
 "nbformat_minor": 5
}
