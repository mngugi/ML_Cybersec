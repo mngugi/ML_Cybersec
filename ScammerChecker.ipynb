{
 "cells": [
  {
   "cell_type": "code",
   "execution_count": 1,
   "id": "98d507b9-2d7e-4fe3-a8aa-dccd0d686f10",
   "metadata": {},
   "outputs": [
    {
     "name": "stdin",
     "output_type": "stream",
     "text": [
      "Enter the website URL (e.g., https://example.com):  www.google592.com\n"
     ]
    },
    {
     "name": "stdout",
     "output_type": "stream",
     "text": [
      "\n",
      "Checking website: www.google592.com\n",
      "WHOIS Error: module 'whois' has no attribute 'whois'\n",
      "\n",
      "SSL Certificate Check:\n",
      "SSL Certificate: Invalid or Missing\n",
      "\n",
      "Blacklist Check:\n",
      "Blacklisted: No\n",
      "\n",
      "URL Analysis:\n",
      "Suspicious URL Pattern: Yes\n"
     ]
    }
   ],
   "source": [
    "import whois\n",
    "import requests\n",
    "import re\n",
    "import socket\n",
    "from urllib.parse import urlparse\n",
    "\n",
    "def get_domain_info(domain):\n",
    "    try:\n",
    "        domain_info = whois.whois(domain)\n",
    "        print(\"\\nWHOIS Information:\")\n",
    "        print(f\"Domain Name: {domain_info.domain_name}\")\n",
    "        print(f\"Registrar: {domain_info.registrar}\")\n",
    "        print(f\"Creation Date: {domain_info.creation_date}\")\n",
    "        print(f\"Expiration Date: {domain_info.expiration_date}\")\n",
    "        print(f\"Owner Info: {domain_info.name if hasattr(domain_info, 'name') else 'Hidden'}\")\n",
    "    except Exception as e:\n",
    "        print(f\"WHOIS Error: {e}\")\n",
    "\n",
    "def check_blacklist(domain):\n",
    "    try:\n",
    "        print(\"\\nBlacklist Check:\")\n",
    "        response = requests.get(f\"https://sitecheck.sucuri.net/api/v3/?scan={domain}\", timeout=10)\n",
    "        if response.status_code == 200:\n",
    "            data = response.json()\n",
    "            blacklisted = data.get(\"response\", {}).get(\"flags\", {}).get(\"blacklisted\", False)\n",
    "            print(\"Blacklisted:\", \"Yes\" if blacklisted else \"No\")\n",
    "        else:\n",
    "            print(\"Could not retrieve blacklist information.\")\n",
    "    except Exception as e:\n",
    "        print(f\"Blacklist Check Error: {e}\")\n",
    "\n",
    "def check_ssl(domain):\n",
    "    try:\n",
    "        print(\"\\nSSL Certificate Check:\")\n",
    "        hostname = urlparse(domain).netloc or domain\n",
    "        socket.create_connection((hostname, 443), timeout=5)\n",
    "        print(\"SSL Certificate: Valid\")\n",
    "    except Exception as e:\n",
    "        print(\"SSL Certificate: Invalid or Missing\")\n",
    "\n",
    "def analyze_url(domain):\n",
    "    print(\"\\nURL Analysis:\")\n",
    "    suspicious_patterns = [\n",
    "        r\"\\d+\",  # Presence of numbers in domain\n",
    "        r\"(?!https?://)(?:www\\.)?google\\d+\",  # Variants of \"google\" with numbers\n",
    "    ]\n",
    "    is_suspicious = any(re.search(pattern, domain) for pattern in suspicious_patterns)\n",
    "    print(\"Suspicious URL Pattern:\", \"Yes\" if is_suspicious else \"No\")\n",
    "\n",
    "def main():\n",
    "    url = input(\"Enter the website URL (e.g., https://example.com): \").strip()\n",
    "    parsed_url = urlparse(url)\n",
    "    domain = parsed_url.netloc or parsed_url.path\n",
    "\n",
    "    print(f\"\\nChecking website: {domain}\")\n",
    "    get_domain_info(domain)\n",
    "    check_ssl(domain)\n",
    "    check_blacklist(domain)\n",
    "    analyze_url(domain)\n",
    "\n",
    "if __name__ == \"__main__\":\n",
    "    main()\n"
   ]
  },
  {
   "cell_type": "code",
   "execution_count": null,
   "id": "aa1b2c1a-d903-45ec-9b37-7df6c68a5132",
   "metadata": {},
   "outputs": [],
   "source": []
  }
 ],
 "metadata": {
  "kernelspec": {
   "display_name": "Python 3 (ipykernel)",
   "language": "python",
   "name": "python3"
  },
  "language_info": {
   "codemirror_mode": {
    "name": "ipython",
    "version": 3
   },
   "file_extension": ".py",
   "mimetype": "text/x-python",
   "name": "python",
   "nbconvert_exporter": "python",
   "pygments_lexer": "ipython3",
   "version": "3.12.7"
  }
 },
 "nbformat": 4,
 "nbformat_minor": 5
}
