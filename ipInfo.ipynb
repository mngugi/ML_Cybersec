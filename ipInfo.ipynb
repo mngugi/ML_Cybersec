{
 "cells": [
  {
   "cell_type": "code",
   "execution_count": 6,
   "id": "7324dfa0-8770-4b13-9d6c-b94abb72faa9",
   "metadata": {},
   "outputs": [
    {
     "name": "stdin",
     "output_type": "stream",
     "text": [
      "Enter Ip address target:  110.189.23.25\n"
     ]
    },
    {
     "name": "stdout",
     "output_type": "stream",
     "text": [
      "IP: 110.189.23.25 \n",
      "City: Muping\n",
      "ISP: Chinanet\n",
      "Country: China\n",
      "Region: SC\n",
      "Timezone: Asia/Shanghai\n"
     ]
    }
   ],
   "source": [
    "import os \n",
    "import urllib.request as urllib2\n",
    "import json\n",
    "\n",
    "while True:\n",
    "    ip = input(\"Enter Ip address target: \")\n",
    "    url = \"http://ip-api.com/json/\"\n",
    "    response = urllib2.urlopen(url + ip)\n",
    "    data = response.read()\n",
    "    values = json.loads(data)\n",
    "\n",
    "    print(f\"IP: {values ['query']} \")\n",
    "    print(f\"City: {values ['city']}\")\n",
    "    print(f\"ISP: {values ['isp']}\")\n",
    "    print(f\"Country: {values ['country']}\")\n",
    "    print(f\"Region: {values ['region']}\")\n",
    "    print(f\"Timezone: {values ['timezone']}\")\n",
    "\n",
    "    break\n",
    "    \n",
    "\n",
    "\n",
    "\n",
    "\n",
    "\n",
    "\n"
   ]
  },
  {
   "cell_type": "code",
   "execution_count": null,
   "id": "1530e2f0-9176-4ddd-8d61-e9f65b249a0a",
   "metadata": {},
   "outputs": [],
   "source": []
  }
 ],
 "metadata": {
  "kernelspec": {
   "display_name": "Python 3 (ipykernel)",
   "language": "python",
   "name": "python3"
  },
  "language_info": {
   "codemirror_mode": {
    "name": "ipython",
    "version": 3
   },
   "file_extension": ".py",
   "mimetype": "text/x-python",
   "name": "python",
   "nbconvert_exporter": "python",
   "pygments_lexer": "ipython3",
   "version": "3.13.0"
  }
 },
 "nbformat": 4,
 "nbformat_minor": 5
}
