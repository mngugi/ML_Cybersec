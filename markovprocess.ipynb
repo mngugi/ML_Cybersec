{
  "nbformat": 4,
  "nbformat_minor": 0,
  "metadata": {
    "colab": {
      "provenance": [],
      "authorship_tag": "ABX9TyPDg4vluTWyvrYWbbxs9hjf",
      "include_colab_link": true
    },
    "kernelspec": {
      "name": "python3",
      "display_name": "Python 3"
    },
    "language_info": {
      "name": "python"
    }
  },
  "cells": [
    {
      "cell_type": "markdown",
      "metadata": {
        "id": "view-in-github",
        "colab_type": "text"
      },
      "source": [
        "<a href=\"https://colab.research.google.com/github/mngugi/ML_Cybersec/blob/main/markovprocess.ipynb\" target=\"_parent\"><img src=\"https://colab.research.google.com/assets/colab-badge.svg\" alt=\"Open In Colab\"/></a>"
      ]
    },
    {
      "cell_type": "code",
      "execution_count": 1,
      "metadata": {
        "colab": {
          "base_uri": "https://localhost:8080/"
        },
        "id": "IaEWka86keBJ",
        "outputId": "f610ffd9-3b8e-4de1-b48b-dfe36332f4de"
      },
      "outputs": [
        {
          "output_type": "stream",
          "name": "stdout",
          "text": [
            "State distribution after 5 steps:\n",
            "[0.41897525 0.27527775 0.20742925 0.09831775]\n",
            "System resilience: 0.4189752499999999\n"
          ]
        }
      ],
      "source": [
        "import numpy as np\n",
        "\n",
        "# Initial state distribution\n",
        "X_0 = np.array([0.6, 0.1, 0.2, 0.1])\n",
        "\n",
        "# Transition matrix\n",
        "P = np.array([\n",
        "    [0.7, 0.2, 0.05, 0.05],\n",
        "    [0.3, 0.4, 0.2, 0.1],\n",
        "    [0.1, 0.3, 0.5, 0.1],\n",
        "    [0.2, 0.2, 0.3, 0.3]\n",
        "])\n",
        "\n",
        "# Function to evolve state\n",
        "def evolve_state(X, P, steps):\n",
        "    for _ in range(steps):\n",
        "        X = np.dot(X, P)\n",
        "    return X\n",
        "\n",
        "# Evolve the state for 5 time steps\n",
        "steps = 5\n",
        "X_t = evolve_state(X_0, P, steps)\n",
        "\n",
        "print(f\"State distribution after {steps} steps:\")\n",
        "print(X_t)\n",
        "\n",
        "# Calculate system resilience\n",
        "resilience = X_t[0]  # Assuming resilience is associated with state S_0\n",
        "print(f\"System resilience: {resilience}\")\n"
      ]
    },
    {
      "cell_type": "code",
      "source": [
        "import numpy as np\n",
        "\n",
        "# Transition matrix\n",
        "P = np.array([\n",
        "    [0.8, 0.2],\n",
        "    [0.4, 0.6]\n",
        "])\n",
        "\n",
        "# Initial state distribution (Sunny)\n",
        "X_0 = np.array([1, 0])\n",
        "\n",
        "# Function to evolve state\n",
        "def evolve_state(X, P, steps):\n",
        "    for _ in range(steps):\n",
        "        X = np.dot(X, P)\n",
        "    return X\n",
        "\n",
        "# Evolve the state for 5 time steps\n",
        "steps = 5\n",
        "X_t = evolve_state(X_0, P, steps)\n",
        "print(f\"State distribution after {steps} steps:\")\n",
        "print(X_t)\n",
        "\n",
        "# Find steady-state distribution\n",
        "eigenvalues, eigenvectors = np.linalg.eig(P.T)\n",
        "steady_state = eigenvectors[:, np.isclose(eigenvalues, 1)]\n",
        "\n",
        "# Normalize the steady-state distribution\n",
        "steady_state = steady_state / np.sum(steady_state)\n",
        "steady_state = steady_state.real\n",
        "print(\"Steady-state distribution:\")\n",
        "print(steady_state)\n"
      ],
      "metadata": {
        "id": "nF2yx-qYk-UG",
        "outputId": "5e8fa07c-97d4-429e-d724-0a4ff9be4ec9",
        "colab": {
          "base_uri": "https://localhost:8080/"
        }
      },
      "execution_count": 2,
      "outputs": [
        {
          "output_type": "stream",
          "name": "stdout",
          "text": [
            "State distribution after 5 steps:\n",
            "[0.67008 0.32992]\n",
            "Steady-state distribution:\n",
            "[[0.66666667]\n",
            " [0.33333333]]\n"
          ]
        }
      ]
    }
  ]
}