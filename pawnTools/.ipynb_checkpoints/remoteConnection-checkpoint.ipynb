{
 "cells": [
  {
   "cell_type": "markdown",
   "id": "bde99ff7-0d4f-4222-a20d-b4f5d2bef8b9",
   "metadata": {},
   "source": [
    "**Connections**\n",
    "\n",
    "Remote connection is done via `pwnlib.tubes.remote`\n"
   ]
  },
  {
   "cell_type": "code",
   "execution_count": 4,
   "id": "9e23c9ad-61a8-4605-b974-a2104dc31ccd",
   "metadata": {},
   "outputs": [
    {
     "name": "stdout",
     "output_type": "stream",
     "text": [
      "[x] Opening connection to ftp.ubuntu.com on port 21\n",
      "[x] Opening connection to ftp.ubuntu.com on port 21: Trying 185.125.190.83\n",
      "[+] Opening connection to ftp.ubuntu.com on port 21: Done\n",
      "[*] Closed connection to ftp.ubuntu.com port 21\n"
     ]
    }
   ],
   "source": [
    "from pwn import * # imports a lot of functionalities.\n",
    "\n",
    "conn = remote(\"ftp.ubuntu.com\", 21)\n",
    "conn.recvline()\n",
    "\n",
    "conn.close()"
   ]
  },
  {
   "cell_type": "markdown",
   "id": "170aa2ab-ccd6-4377-9822-a28e9d3f8169",
   "metadata": {},
   "source": [
    "There are various ways of spinning a listner."
   ]
  },
  {
   "cell_type": "code",
   "execution_count": 8,
   "id": "41394e9c-31cf-4ff8-97e3-2698899e580a",
   "metadata": {},
   "outputs": [
    {
     "name": "stdout",
     "output_type": "stream",
     "text": [
      "[x] Trying to bind to :: on port 0\n",
      "[x] Trying to bind to :: on port 0: Trying ::\n",
      "[+] Trying to bind to :: on port 0: Done\n",
      "[x] Waiting for connections on :::44221\n",
      "[x] Opening connection to localhost on port 44221\n",
      "[x] Opening connection to localhost on port 44221: Trying ::1\n",
      "[+] Opening connection to localhost on port 44221: Done\n",
      "[+] Waiting for connections on :::44221: Got connection from ::1 on port 58906\n"
     ]
    },
    {
     "data": {
      "text/plain": [
       "b'hello'"
      ]
     },
     "execution_count": 8,
     "metadata": {},
     "output_type": "execute_result"
    }
   ],
   "source": [
    "list_en = listen()\n",
    "re_mote = remote('localhost', list_en.lport)\n",
    "conne_ction = list_en.wait_for_connection()\n",
    "re_mote.send(b'hello')\n",
    "conne_ction.recv()\n",
    "conne_ction.close()\n"
   ]
  },
  {
   "cell_type": "code",
   "execution_count": null,
   "id": "1c57acb1-ed7b-4c06-b4f7-c9b349bcb2a9",
   "metadata": {},
   "outputs": [],
   "source": []
  }
 ],
 "metadata": {
  "kernelspec": {
   "display_name": "Python 3 (ipykernel)",
   "language": "python",
   "name": "python3"
  },
  "language_info": {
   "codemirror_mode": {
    "name": "ipython",
    "version": 3
   },
   "file_extension": ".py",
   "mimetype": "text/x-python",
   "name": "python",
   "nbconvert_exporter": "python",
   "pygments_lexer": "ipython3",
   "version": "3.12.5"
  }
 },
 "nbformat": 4,
 "nbformat_minor": 5
}
