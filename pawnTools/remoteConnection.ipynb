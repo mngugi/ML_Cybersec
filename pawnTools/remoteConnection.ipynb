{
 "cells": [
  {
   "cell_type": "markdown",
   "id": "bde99ff7-0d4f-4222-a20d-b4f5d2bef8b9",
   "metadata": {},
   "source": [
    "**Connections**\n",
    "\n"
   ]
  },
  {
   "cell_type": "code",
   "execution_count": 7,
   "id": "9e23c9ad-61a8-4605-b974-a2104dc31ccd",
   "metadata": {},
   "outputs": [
    {
     "name": "stdout",
     "output_type": "stream",
     "text": [
      "[x] Opening connection to ftp.ubuntu.com on port 21\n",
      "[x] Opening connection to ftp.ubuntu.com on port 21: Trying 185.125.190.81\n",
      "[+] Opening connection to ftp.ubuntu.com on port 21: Done\n"
     ]
    },
    {
     "data": {
      "text/plain": [
       "b'220 FTP server (vsftpd)\\r\\n'"
      ]
     },
     "execution_count": 7,
     "metadata": {},
     "output_type": "execute_result"
    }
   ],
   "source": [
    "from pwn import *\n",
    "\n",
    "conn = remote(\"ftp.ubuntu.com\", 21)\n",
    "conn.recvline()"
   ]
  },
  {
   "cell_type": "code",
   "execution_count": null,
   "id": "6b0df57f-e021-4e9a-a1b0-b2b63d34f8a4",
   "metadata": {},
   "outputs": [],
   "source": []
  }
 ],
 "metadata": {
  "kernelspec": {
   "display_name": "Python 3 (ipykernel)",
   "language": "python",
   "name": "python3"
  },
  "language_info": {
   "codemirror_mode": {
    "name": "ipython",
    "version": 3
   },
   "file_extension": ".py",
   "mimetype": "text/x-python",
   "name": "python",
   "nbconvert_exporter": "python",
   "pygments_lexer": "ipython3",
   "version": "3.12.5"
  }
 },
 "nbformat": 4,
 "nbformat_minor": 5
}
