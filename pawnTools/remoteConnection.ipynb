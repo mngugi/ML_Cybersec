{
 "cells": [
  {
   "cell_type": "markdown",
   "id": "bde99ff7-0d4f-4222-a20d-b4f5d2bef8b9",
   "metadata": {},
   "source": [
    "**Connections**\n",
    "\n",
    "Remote connection is done via `pwnlib.tubes.remote`\n"
   ]
  },
  {
   "cell_type": "code",
   "execution_count": 1,
   "id": "9e23c9ad-61a8-4605-b974-a2104dc31ccd",
   "metadata": {},
   "outputs": [
    {
     "name": "stdout",
     "output_type": "stream",
     "text": [
      "[x] Opening connection to ftp.ubuntu.com on port 23\n",
      "[x] Opening connection to ftp.ubuntu.com on port 23: Trying 185.125.190.81\n",
      "[x] Opening connection to ftp.ubuntu.com on port 23: Trying 185.125.190.83\n",
      "[x] Opening connection to ftp.ubuntu.com on port 23: Trying 185.125.190.82\n",
      "[x] Opening connection to ftp.ubuntu.com on port 23: Trying 2620:2d:4000:1::101\n",
      "[x] Opening connection to ftp.ubuntu.com on port 23: Trying 2620:2d:4000:1::103\n",
      "[x] Opening connection to ftp.ubuntu.com on port 23: Trying 2620:2d:4000:1::102\n",
      "[ERROR] Could not connect to ftp.ubuntu.com on port 23\n",
      "[-] Opening connection to ftp.ubuntu.com on port 23: Failed\n"
     ]
    },
    {
     "ename": "PwnlibException",
     "evalue": "Could not connect to ftp.ubuntu.com on port 23",
     "output_type": "error",
     "traceback": [
      "\u001b[0;31m---------------------------------------------------------------------------\u001b[0m",
      "\u001b[0;31mPwnlibException\u001b[0m                           Traceback (most recent call last)",
      "Cell \u001b[0;32mIn[1], line 3\u001b[0m\n\u001b[1;32m      1\u001b[0m \u001b[38;5;28;01mfrom\u001b[39;00m \u001b[38;5;21;01mpwn\u001b[39;00m \u001b[38;5;28;01mimport\u001b[39;00m \u001b[38;5;241m*\u001b[39m\n\u001b[0;32m----> 3\u001b[0m conn \u001b[38;5;241m=\u001b[39m \u001b[43mremote\u001b[49m\u001b[43m(\u001b[49m\u001b[38;5;124;43m\"\u001b[39;49m\u001b[38;5;124;43mftp.ubuntu.com\u001b[39;49m\u001b[38;5;124;43m\"\u001b[39;49m\u001b[43m,\u001b[49m\u001b[43m \u001b[49m\u001b[38;5;241;43m23\u001b[39;49m\u001b[43m)\u001b[49m\n\u001b[1;32m      4\u001b[0m conn\u001b[38;5;241m.\u001b[39mrecvline()\n",
      "File \u001b[0;32m~/.var/app/org.jupyter.JupyterLab/config/jupyterlab-desktop/jlab_server/lib/python3.12/site-packages/pwnlib/tubes/remote.py:78\u001b[0m, in \u001b[0;36mremote.__init__\u001b[0;34m(self, host, port, fam, typ, ssl, sock, ssl_context, ssl_args, sni, *args, **kwargs)\u001b[0m\n\u001b[1;32m     76\u001b[0m fam \u001b[38;5;241m=\u001b[39m \u001b[38;5;28mself\u001b[39m\u001b[38;5;241m.\u001b[39m_get_family(fam)\n\u001b[1;32m     77\u001b[0m \u001b[38;5;28;01mtry\u001b[39;00m:\n\u001b[0;32m---> 78\u001b[0m     \u001b[38;5;28mself\u001b[39m\u001b[38;5;241m.\u001b[39msock   \u001b[38;5;241m=\u001b[39m \u001b[38;5;28;43mself\u001b[39;49m\u001b[38;5;241;43m.\u001b[39;49m\u001b[43m_connect\u001b[49m\u001b[43m(\u001b[49m\u001b[43mfam\u001b[49m\u001b[43m,\u001b[49m\u001b[43m \u001b[49m\u001b[43mtyp\u001b[49m\u001b[43m)\u001b[49m\n\u001b[1;32m     79\u001b[0m \u001b[38;5;28;01mexcept\u001b[39;00m socket\u001b[38;5;241m.\u001b[39mgaierror \u001b[38;5;28;01mas\u001b[39;00m e:\n\u001b[1;32m     80\u001b[0m     \u001b[38;5;28;01mif\u001b[39;00m e\u001b[38;5;241m.\u001b[39merrno \u001b[38;5;241m!=\u001b[39m socket\u001b[38;5;241m.\u001b[39mEAI_NONAME:\n",
      "File \u001b[0;32m~/.var/app/org.jupyter.JupyterLab/config/jupyterlab-desktop/jlab_server/lib/python3.12/site-packages/pwnlib/tubes/remote.py:127\u001b[0m, in \u001b[0;36mremote._connect\u001b[0;34m(self, fam, typ)\u001b[0m\n\u001b[1;32m    125\u001b[0m     \u001b[38;5;28;01mexcept\u001b[39;00m socket\u001b[38;5;241m.\u001b[39merror:\n\u001b[1;32m    126\u001b[0m         \u001b[38;5;28;01mpass\u001b[39;00m\n\u001b[0;32m--> 127\u001b[0m \u001b[38;5;28;43mself\u001b[39;49m\u001b[38;5;241;43m.\u001b[39;49m\u001b[43merror\u001b[49m\u001b[43m(\u001b[49m\u001b[38;5;124;43m\"\u001b[39;49m\u001b[38;5;124;43mCould not connect to \u001b[39;49m\u001b[38;5;132;43;01m%s\u001b[39;49;00m\u001b[38;5;124;43m on port \u001b[39;49m\u001b[38;5;132;43;01m%s\u001b[39;49;00m\u001b[38;5;124;43m\"\u001b[39;49m\u001b[43m,\u001b[49m\u001b[43m \u001b[49m\u001b[38;5;28;43mself\u001b[39;49m\u001b[38;5;241;43m.\u001b[39;49m\u001b[43mrhost\u001b[49m\u001b[43m,\u001b[49m\u001b[43m \u001b[49m\u001b[38;5;28;43mself\u001b[39;49m\u001b[38;5;241;43m.\u001b[39;49m\u001b[43mrport\u001b[49m\u001b[43m)\u001b[49m\n",
      "File \u001b[0;32m~/.var/app/org.jupyter.JupyterLab/config/jupyterlab-desktop/jlab_server/lib/python3.12/site-packages/pwnlib/log.py:439\u001b[0m, in \u001b[0;36mLogger.error\u001b[0;34m(self, message, *args, **kwargs)\u001b[0m\n\u001b[1;32m    432\u001b[0m \u001b[38;5;250m\u001b[39m\u001b[38;5;124;03m\"\"\"error(message, *args, **kwargs)\u001b[39;00m\n\u001b[1;32m    433\u001b[0m \n\u001b[1;32m    434\u001b[0m \u001b[38;5;124;03mTo be called outside an exception handler.\u001b[39;00m\n\u001b[1;32m    435\u001b[0m \n\u001b[1;32m    436\u001b[0m \u001b[38;5;124;03mLogs an error message, then raises a ``PwnlibException``.\u001b[39;00m\n\u001b[1;32m    437\u001b[0m \u001b[38;5;124;03m\"\"\"\u001b[39;00m\n\u001b[1;32m    438\u001b[0m \u001b[38;5;28mself\u001b[39m\u001b[38;5;241m.\u001b[39m_log(logging\u001b[38;5;241m.\u001b[39mERROR, message, args, kwargs, \u001b[38;5;124m'\u001b[39m\u001b[38;5;124merror\u001b[39m\u001b[38;5;124m'\u001b[39m)\n\u001b[0;32m--> 439\u001b[0m \u001b[38;5;28;01mraise\u001b[39;00m PwnlibException(message \u001b[38;5;241m%\u001b[39m args)\n",
      "\u001b[0;31mPwnlibException\u001b[0m: Could not connect to ftp.ubuntu.com on port 23"
     ]
    }
   ],
   "source": [
    "from pwn import *\n",
    "\n",
    "conn = remote(\"ftp.ubuntu.com\", 23)\n",
    "conn.recvline()"
   ]
  },
  {
   "cell_type": "code",
   "execution_count": null,
   "id": "6b0df57f-e021-4e9a-a1b0-b2b63d34f8a4",
   "metadata": {},
   "outputs": [],
   "source": []
  }
 ],
 "metadata": {
  "kernelspec": {
   "display_name": "Python 3 (ipykernel)",
   "language": "python",
   "name": "python3"
  },
  "language_info": {
   "codemirror_mode": {
    "name": "ipython",
    "version": 3
   },
   "file_extension": ".py",
   "mimetype": "text/x-python",
   "name": "python",
   "nbconvert_exporter": "python",
   "pygments_lexer": "ipython3",
   "version": "3.12.5"
  }
 },
 "nbformat": 4,
 "nbformat_minor": 5
}
