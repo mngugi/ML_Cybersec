{
 "cells": [
  {
   "cell_type": "markdown",
   "id": "bde99ff7-0d4f-4222-a20d-b4f5d2bef8b9",
   "metadata": {},
   "source": [
    "**Connections**\n",
    "\n",
    "Remote connection is done via `pwnlib.tubes.remote`\n"
   ]
  },
  {
   "cell_type": "code",
   "execution_count": 13,
   "id": "9e23c9ad-61a8-4605-b974-a2104dc31ccd",
   "metadata": {},
   "outputs": [
    {
     "name": "stdout",
     "output_type": "stream",
     "text": [
      "[x] Opening connection to ftp.ubuntu.com on port 21\n",
      "[x] Opening connection to ftp.ubuntu.com on port 21: Trying 185.125.190.82\n",
      "[+] Opening connection to ftp.ubuntu.com on port 21: Done\n",
      "[*] Closed connection to ftp.ubuntu.com port 21\n"
     ]
    }
   ],
   "source": [
    "from pwn import * # imports a lot of functionalities.\n",
    "\n",
    "conne_ction = remote(\"ftp.ubuntu.com\", 21)\n",
    "conne_ction.recvline()\n",
    "\n",
    "conne_ction.close()"
   ]
  },
  {
   "cell_type": "markdown",
   "id": "170aa2ab-ccd6-4377-9822-a28e9d3f8169",
   "metadata": {},
   "source": [
    "There are various ways of spinning a listner."
   ]
  },
  {
   "cell_type": "code",
   "execution_count": 14,
   "id": "41394e9c-31cf-4ff8-97e3-2698899e580a",
   "metadata": {},
   "outputs": [
    {
     "name": "stdout",
     "output_type": "stream",
     "text": [
      "[x] Trying to bind to :: on port 0\n",
      "[x] Trying to bind to :: on port 0: Trying ::\n",
      "[+] Trying to bind to :: on port 0: Done\n",
      "[x] Waiting for connections on :::42329\n",
      "[x] Opening connection to localhost on port 42329\n",
      "[x] Opening connection to localhost on port 42329: Trying ::1\n",
      "[+] Opening connection to localhost on port 42329: Done\n",
      "[+] Waiting for connections on :::42329: Got connection from ::1 on port 40926\n"
     ]
    }
   ],
   "source": [
    "list_en = listen()\n",
    "re_mote = remote('localhost', list_en.lport)\n",
    "conne_ction = list_en.wait_for_connection()\n",
    "re_mote.send(b'hello')\n",
    "conne_ction.recv()\n",
    "conne_ction.close()\n"
   ]
  },
  {
   "cell_type": "markdown",
   "id": "a89b66bf-5cbb-4eab-9cde-314ef4f4bb03",
   "metadata": {},
   "source": [
    "Interacting with processes using `pwnlib.tubes.process` . This Python code is designed to spawn a shell process, send a command to the shell, and then capture the output of that command."
   ]
  },
  {
   "cell_type": "markdown",
   "id": "66d52459-d1d1-4db1-9778-3f6bff7eba1f",
   "metadata": {},
   "source": [
    "**Spawning a Shell:**\n",
    "\n"
   ]
  },
  {
   "cell_type": "code",
   "execution_count": 19,
   "id": "20400e4b-09e5-4224-b000-1fd0614fd779",
   "metadata": {},
   "outputs": [
    {
     "name": "stdout",
     "output_type": "stream",
     "text": [
      "[x] Starting local process '/bin/sh'\n",
      "[+] Starting local process '/bin/sh': pid 394\n"
     ]
    }
   ],
   "source": [
    "sh = process('/bin/sh')\n",
    "\n"
   ]
  },
  {
   "cell_type": "markdown",
   "id": "84211b23-916c-4dd2-88d5-d6f6938f6738",
   "metadata": {},
   "source": [
    "This line creates a subprocess by launching /bin/sh (a standard shell on Unix-like systems) using the process() function, likely from the pwntools library.\n",
    "The process() function interacts with this shell process programmatically, allowing the script to send commands and receive outputs from the shell.\n"
   ]
  },
  {
   "cell_type": "markdown",
   "id": "4e7c9a1c-5db8-4455-aae7-d959d24948b9",
   "metadata": {},
   "source": [
    "**Sending a Command:**"
   ]
  },
  {
   "cell_type": "code",
   "execution_count": 20,
   "id": "cb9dc154-f284-49ad-8972-554d28bb95a0",
   "metadata": {},
   "outputs": [],
   "source": [
    "sh.sendline(b'sleep 3; echo hello world;')"
   ]
  },
  {
   "cell_type": "markdown",
   "id": "22661cec-87d4-4608-bfd4-3c3d3b84a5aa",
   "metadata": {},
   "source": [
    "The sendline() function sends a command to the shell process. The command sent here is sleep 3; echo hello world;.\n",
    "The command does two things:\n",
    "sleep 3: Pauses execution for 3 seconds.\n",
    "echo hello world: Prints the string \"hello world\" to the standard output.\n",
    "The b before the string means the input is being sent as bytes, which is necessary when communicating with processes at the byte level."
   ]
  },
  {
   "cell_type": "markdown",
   "id": "7b4e908d-956a-47ba-bdb8-70063a6737cb",
   "metadata": {},
   "source": [
    "**Receiving Output with Timeout:**"
   ]
  },
  {
   "cell_type": "code",
   "execution_count": 21,
   "id": "eb5ff1e8-64ff-4300-9de0-14e7f87f7520",
   "metadata": {},
   "outputs": [
    {
     "data": {
      "text/plain": [
       "b'hello world\\n'"
      ]
     },
     "execution_count": 21,
     "metadata": {},
     "output_type": "execute_result"
    }
   ],
   "source": [
    "sh.recvline(timeout=1)\n"
   ]
  },
  {
   "cell_type": "markdown",
   "id": "1ab8b847-3768-44aa-b4a9-9b0964d3db55",
   "metadata": {},
   "source": [
    "The recvline() function is used to read the next line of output from the shell.\n",
    "The timeout=1 parameter specifies that the function should wait for up to 1 second for a response.\n",
    "Since the command starts with sleep 3, no output will be produced within 1 second, so this line will return b'' (an empty byte string)."
   ]
  },
  {
   "cell_type": "markdown",
   "id": "29a7ef50-6a83-46ae-8109-9e9331c79891",
   "metadata": {},
   "source": [
    "**Receiving Output After Delay:**"
   ]
  },
  {
   "cell_type": "markdown",
   "id": "080ffad1-2fad-4614-bd2c-95aff250cddd",
   "metadata": {},
   "source": [
    "The recvline() function is used to read the next line of output from the shell.\n",
    "The timeout=1 parameter specifies that the function should wait for up to 1 second for a response.\n",
    "Since the command starts with sleep 3, no output will be produced within 1 second, so this line will return b'' (an empty byte string)."
   ]
  },
  {
   "cell_type": "markdown",
   "id": "f6626106-04c7-4d6b-85f7-3dad7016219b",
   "metadata": {},
   "source": [
    "**Receiving Output After Delay:**"
   ]
  },
  {
   "cell_type": "code",
   "execution_count": 22,
   "id": "d1c71cb6-d4f5-43ca-a3ac-c0fa47effb3c",
   "metadata": {},
   "outputs": [
    {
     "data": {
      "text/plain": [
       "b''"
      ]
     },
     "execution_count": 22,
     "metadata": {},
     "output_type": "execute_result"
    }
   ],
   "source": [
    "sh.recvline(timeout=5)\n"
   ]
  },
  {
   "cell_type": "markdown",
   "id": "895493a7-bd0b-4fcd-9e2c-a117f7963a68",
   "metadata": {},
   "source": [
    "This recvline() call waits for up to 5 seconds for output.\n",
    "After the 3-second delay from sleep 3, the shell will output hello world, so this line will return b'hello world\\n' (the \\n represents the newline character).\n",
    "**Timeline of Events:**\n",
    "0 seconds: Shell is spawned.\n",
    "0 seconds: The command sleep 3; echo hello world; is sent.\n",
    "1 second: The first call to recvline() times out after 1 second, returning an empty byte string (b''), since no output is produced yet due to the sleep command.\n",
    "3 seconds: The sleep command completes, and the echo hello world command runs, producing output.\n",
    "Up to 5 seconds: The second call to recvline() captures the output b'hello world\\n'.\n",
    "**Analysis:**\n",
    "Use Case: The code demonstrates how to interact with a shell process, send commands, and receive outputs programmatically. It waits for command completion and retrieves the output.\n",
    "Timeout Management: The timeout argument allows you to control how long the script waits for output. This is useful when dealing with commands that take varying amounts of time to complete.\n",
    "Expected Output: The first recvline() call returns b'' because the shell hasn't produced any output yet. The second recvline() captures b'hello world\\n', the output of the echo command after the sleep delay.\n",
    "Potential Improvements:\n",
    "Error Handling: The code assumes the command will execute as expected. Adding error handling for unexpected timeouts or subprocess failures would improve robustness.\n",
    "Timeout Adjustment: The second timeout=5 might be too long if the command is expected to complete in 3 seconds. Fine-tuning timeouts based on expected command durations can optimize performance."
   ]
  },
  {
   "cell_type": "code",
   "execution_count": 23,
   "id": "b71bd35e-d12f-4fd5-ba01-d0e7fe25a811",
   "metadata": {},
   "outputs": [
    {
     "name": "stdout",
     "output_type": "stream",
     "text": [
      "[*] Stopped process '/bin/sh' (pid 394)\n"
     ]
    }
   ],
   "source": [
    "sh.close()"
   ]
  },
  {
   "cell_type": "code",
   "execution_count": 24,
   "id": "96b5bc0b-725b-42be-a36b-3fe646fed8bc",
   "metadata": {},
   "outputs": [
    {
     "name": "stdout",
     "output_type": "stream",
     "text": [
      "[*] Switching to interactive mode\n",
      "[*] Got EOF while reading in interactive\n"
     ]
    }
   ],
   "source": [
    "sh.interactive() "
   ]
  },
  {
   "cell_type": "code",
   "execution_count": null,
   "id": "4f9eb040-2324-479f-864e-046194691e1a",
   "metadata": {},
   "outputs": [],
   "source": []
  }
 ],
 "metadata": {
  "kernelspec": {
   "display_name": "Python 3 (ipykernel)",
   "language": "python",
   "name": "python3"
  },
  "language_info": {
   "codemirror_mode": {
    "name": "ipython",
    "version": 3
   },
   "file_extension": ".py",
   "mimetype": "text/x-python",
   "name": "python",
   "nbconvert_exporter": "python",
   "pygments_lexer": "ipython3",
   "version": "3.12.5"
  }
 },
 "nbformat": 4,
 "nbformat_minor": 5
}
