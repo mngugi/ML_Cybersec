{
 "cells": [
  {
   "cell_type": "markdown",
   "id": "bde99ff7-0d4f-4222-a20d-b4f5d2bef8b9",
   "metadata": {},
   "source": [
    "**Connections**\n",
    "\n",
    "Remote connection is done via `pwnlib.tubes.remote`\n"
   ]
  },
  {
   "cell_type": "code",
   "execution_count": 1,
   "id": "9e23c9ad-61a8-4605-b974-a2104dc31ccd",
   "metadata": {},
   "outputs": [
    {
     "name": "stdout",
     "output_type": "stream",
     "text": [
      "[x] Opening connection to ftp.ubuntu.com on port 21\n",
      "[x] Opening connection to ftp.ubuntu.com on port 21: Trying 185.125.190.83\n",
      "[+] Opening connection to ftp.ubuntu.com on port 21: Done\n",
      "[*] Closed connection to ftp.ubuntu.com port 21\n"
     ]
    }
   ],
   "source": [
    "from pwn import * # imports a lot of functionalities.\n",
    "\n",
    "conne_ction = remote(\"ftp.ubuntu.com\", 21)\n",
    "conne_ction.recvline()\n",
    "\n",
    "conne_ction.close()"
   ]
  },
  {
   "cell_type": "markdown",
   "id": "170aa2ab-ccd6-4377-9822-a28e9d3f8169",
   "metadata": {},
   "source": [
    "There are various ways of spinning a listner."
   ]
  },
  {
   "cell_type": "code",
   "execution_count": 2,
   "id": "41394e9c-31cf-4ff8-97e3-2698899e580a",
   "metadata": {},
   "outputs": [
    {
     "name": "stdout",
     "output_type": "stream",
     "text": [
      "[x] Trying to bind to :: on port 0\n",
      "[x] Trying to bind to :: on port 0: Trying ::\n",
      "[+] Trying to bind to :: on port 0: Done\n",
      "[x] Waiting for connections on :::40183\n",
      "[x] Opening connection to localhost on port 40183\n",
      "[x] Opening connection to localhost on port 40183: Trying ::1\n",
      "[+] Opening connection to localhost on port 40183: Done\n",
      "[+] Waiting for connections on :::40183: Got connection from ::1 on port 38968\n"
     ]
    }
   ],
   "source": [
    "list_en = listen()\n",
    "re_mote = remote('localhost', list_en.lport)\n",
    "conne_ction = list_en.wait_for_connection()\n",
    "re_mote.send(b'hello')\n",
    "conne_ction.recv()\n",
    "conne_ction.close()\n"
   ]
  },
  {
   "cell_type": "markdown",
   "id": "a89b66bf-5cbb-4eab-9cde-314ef4f4bb03",
   "metadata": {},
   "source": [
    "Interacting with processes using `pwnlib.tubes.process` . This Python code is designed to spawn a shell process, send a command to the shell, and then capture the output of that command."
   ]
  },
  {
   "cell_type": "code",
   "execution_count": null,
   "id": "df7517df-a254-4c2b-90dd-a660aa34d86f",
   "metadata": {},
   "outputs": [],
   "source": [
    "**Spawning a Shell:**\n",
    "\n"
   ]
  },
  {
   "cell_type": "code",
   "execution_count": null,
   "id": "20400e4b-09e5-4224-b000-1fd0614fd779",
   "metadata": {},
   "outputs": [],
   "source": [
    "sh = process('/bin/sh')\n",
    "\n"
   ]
  },
  {
   "cell_type": "markdown",
   "id": "84211b23-916c-4dd2-88d5-d6f6938f6738",
   "metadata": {},
   "source": [
    "This line creates a subprocess by launching /bin/sh (a standard shell on Unix-like systems) using the process() function, likely from the pwntools library.\n",
    "The process() function interacts with this shell process programmatically, allowing the script to send commands and receive outputs from the shell.\n"
   ]
  },
  {
   "cell_type": "code",
   "execution_count": null,
   "id": "cb9dc154-f284-49ad-8972-554d28bb95a0",
   "metadata": {},
   "outputs": [],
   "source": [
    "sh.sendline(b'sleep 3; echo hello world;')"
   ]
  },
  {
   "cell_type": "markdown",
   "id": "22661cec-87d4-4608-bfd4-3c3d3b84a5aa",
   "metadata": {},
   "source": [
    "The sendline() function sends a command to the shell process. The command sent here is sleep 3; echo hello world;.\n",
    "The command does two things:\n",
    "sleep 3: Pauses execution for 3 seconds.\n",
    "echo hello world: Prints the string \"hello world\" to the standard output.\n",
    "The b before the string means the input is being sent as bytes, which is necessary when communicating with processes at the byte level."
   ]
  },
  {
   "cell_type": "code",
   "execution_count": null,
   "id": "83cf7a48-83be-41cc-8967-170eab262e5d",
   "metadata": {},
   "outputs": [],
   "source": []
  }
 ],
 "metadata": {
  "kernelspec": {
   "display_name": "Python 3 (ipykernel)",
   "language": "python",
   "name": "python3"
  },
  "language_info": {
   "codemirror_mode": {
    "name": "ipython",
    "version": 3
   },
   "file_extension": ".py",
   "mimetype": "text/x-python",
   "name": "python",
   "nbconvert_exporter": "python",
   "pygments_lexer": "ipython3",
   "version": "3.12.5"
  }
 },
 "nbformat": 4,
 "nbformat_minor": 5
}
