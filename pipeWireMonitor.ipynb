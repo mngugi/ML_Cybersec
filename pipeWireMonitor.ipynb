{
 "cells": [
  {
   "cell_type": "code",
   "execution_count": null,
   "id": "4e265566-5878-40ad-a7a1-fd93a5579d72",
   "metadata": {},
   "outputs": [],
   "source": [
    "import os\n",
    "import time\n",
    "import subprocess\n",
    "from pathlib import Path\n",
    "\n",
    "def get_pipewire_permissions():\n",
    "    try:\n",
    "        result = subprocess.run([\"pw-cli\", \"permissions\"], capture_output=True, text=True)\n",
    "        return result.stdout\n",
    "    except FileNotFoundError:\n",
    "        return \"PipeWire CLI not found. Install pipewire-tools.\"\n",
    "\n",
    "def get_pipewire_owners():\n",
    "    try:\n",
    "        result = subprocess.run([\"ps\", \"aux\"], capture_output=True, text=True)\n",
    "        processes = [line for line in result.stdout.split('\\n') if \"pipewire\" in line]\n",
    "        return \"\\n\".join(processes)\n",
    "    except Exception as e:\n",
    "        return str(e)\n",
    "\n",
    "def get_pipewire_configurations():\n",
    "    config_paths = [\"/etc/pipewire\", Path.home() / \".config/pipewire\"]\n",
    "    config_files = []\n",
    "    for path in config_paths:\n",
    "        if os.path.exists(path):\n",
    "            for root, _, files in os.walk(path):\n",
    "                for file in files:\n",
    "                    config_files.append(os.path.join(root, file))\n",
    "    return \"\\n\".join(config_files)\n",
    "\n",
    "def get_pipewire_modules():\n",
    "    try:\n",
    "        result = subprocess.run([\"pw-cli\", \"info\", \"all\"], capture_output=True, text=True)\n",
    "        return result.stdout\n",
    "    except FileNotFoundError:\n",
    "        return \"PipeWire CLI not found. Install pipewire-tools.\"\n",
    "\n",
    "def monitor_pipewire(interval=60):\n",
    "    log_file = \"pipewire_monitor.log\"\n",
    "    while True:\n",
    "        with open(log_file, \"a\") as log:\n",
    "            log.write(\"\\n=== PipeWire Monitoring Log ===\\n\")\n",
    "            log.write(f\"Permissions:\\n{get_pipewire_permissions()}\\n\")\n",
    "            log.write(f\"Owners:\\n{get_pipewire_owners()}\\n\")\n",
    "            log.write(f\"Configurations:\\n{get_pipewire_configurations()}\\n\")\n",
    "            log.write(f\"Modules:\\n{get_pipewire_modules()}\\n\")\n",
    "            log.write(\"================================\\n\")\n",
    "        time.sleep(interval)\n",
    "\n",
    "if __name__ == \"__main__\":\n",
    "    monitor_pipewire()\n"
   ]
  },
  {
   "cell_type": "code",
   "execution_count": null,
   "id": "738d4426-4b12-440d-800d-65d21620f7bb",
   "metadata": {},
   "outputs": [],
   "source": []
  }
 ],
 "metadata": {
  "kernelspec": {
   "display_name": "Python 3 (ipykernel)",
   "language": "python",
   "name": "python3"
  },
  "language_info": {
   "codemirror_mode": {
    "name": "ipython",
    "version": 3
   },
   "file_extension": ".py",
   "mimetype": "text/x-python",
   "name": "python",
   "nbconvert_exporter": "python",
   "pygments_lexer": "ipython3",
   "version": "3.12.2"
  }
 },
 "nbformat": 4,
 "nbformat_minor": 5
}
