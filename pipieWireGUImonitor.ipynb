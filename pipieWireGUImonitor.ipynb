{
 "cells": [
  {
   "cell_type": "code",
   "execution_count": 1,
   "id": "5cbc39fd-b6d5-4747-8baf-55c153680dbf",
   "metadata": {},
   "outputs": [],
   "source": [
    "import os\n",
    "import time\n",
    "import subprocess\n",
    "import tkinter as tk\n",
    "from tkinter import scrolledtext\n",
    "from pathlib import Path\n",
    "\n",
    "def get_pipewire_permissions():\n",
    "    try:\n",
    "        result = subprocess.run([\"pw-cli\", \"permissions\"], capture_output=True, text=True)\n",
    "        return result.stdout\n",
    "    except FileNotFoundError:\n",
    "        return \"PipeWire CLI not found. Install pipewire-tools.\"\n",
    "\n",
    "def get_pipewire_owners():\n",
    "    try:\n",
    "        result = subprocess.run([\"ps\", \"aux\"], capture_output=True, text=True)\n",
    "        processes = [line for line in result.stdout.split('\\n') if \"pipewire\" in line]\n",
    "        return \"\\n\".join(processes)\n",
    "    except Exception as e:\n",
    "        return str(e)\n",
    "\n",
    "def get_pipewire_configurations():\n",
    "    config_paths = [\"/etc/pipewire\", Path.home() / \".config/pipewire\"]\n",
    "    config_files = []\n",
    "    for path in config_paths:\n",
    "        if os.path.exists(path):\n",
    "            for root, _, files in os.walk(path):\n",
    "                for file in files:\n",
    "                    config_files.append(os.path.join(root, file))\n",
    "    return \"\\n\".join(config_files)\n",
    "\n",
    "def get_pipewire_modules():\n",
    "    try:\n",
    "        result = subprocess.run([\"pw-cli\", \"info\", \"all\"], capture_output=True, text=True)\n",
    "        return result.stdout\n",
    "    except FileNotFoundError:\n",
    "        return \"PipeWire CLI not found. Install pipewire-tools.\"\n",
    "\n",
    "def update_gui():\n",
    "    text_area.delete(\"1.0\", tk.END)\n",
    "    text_area.insert(tk.END, \"=== PipeWire Monitoring Log ===\\n\")\n",
    "    text_area.insert(tk.END, f\"Permissions:\\n{get_pipewire_permissions()}\\n\")\n",
    "    text_area.insert(tk.END, f\"Owners:\\n{get_pipewire_owners()}\\n\")\n",
    "    text_area.insert(tk.END, f\"Configurations:\\n{get_pipewire_configurations()}\\n\")\n",
    "    text_area.insert(tk.END, f\"Modules:\\n{get_pipewire_modules()}\\n\")\n",
    "    text_area.insert(tk.END, \"================================\\n\")\n",
    "    root.after(60000, update_gui)  # Update every 60 seconds\n",
    "\n",
    "root = tk.Tk()\n",
    "root.title(\"PipeWire Monitor\")\n",
    "\n",
    "text_area = scrolledtext.ScrolledText(root, wrap=tk.WORD, width=100, height=30)\n",
    "text_area.pack(padx=10, pady=10)\n",
    "\n",
    "update_gui()\n",
    "root.mainloop()\n"
   ]
  },
  {
   "cell_type": "code",
   "execution_count": null,
   "id": "d5b100bc-4d65-4060-86e6-79d4734692fa",
   "metadata": {},
   "outputs": [],
   "source": []
  }
 ],
 "metadata": {
  "kernelspec": {
   "display_name": "Python 3 (ipykernel)",
   "language": "python",
   "name": "python3"
  },
  "language_info": {
   "codemirror_mode": {
    "name": "ipython",
    "version": 3
   },
   "file_extension": ".py",
   "mimetype": "text/x-python",
   "name": "python",
   "nbconvert_exporter": "python",
   "pygments_lexer": "ipython3",
   "version": "3.12.2"
  }
 },
 "nbformat": 4,
 "nbformat_minor": 5
}
