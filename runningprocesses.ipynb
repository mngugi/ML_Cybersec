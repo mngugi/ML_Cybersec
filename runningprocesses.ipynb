{
 "cells": [
  {
   "cell_type": "code",
   "execution_count": 1,
   "id": "3b665842-c009-4b75-b704-1ea986d96400",
   "metadata": {},
   "outputs": [],
   "source": [
    "import psutil\n",
    "\n",
    "print(f'{'PID':<10} {'Status':<15} {'Username':<20}')\n",
    "print(\"-\" * 70)\n",
    "\n",
    "for proc in psutil.process_iter(['pid', 'name', 'status', 'username']):\n",
    "    try:\n",
    "        pid = proc.info['pid']\n",
    "        name = proc.info['name'] or \"N/A\"\n",
    "        status = proc.info['status'] or \"N/A\"\n",
    "        username = proc.info['username'] or \"N/A\"\n",
    "\n",
    "\n",
    "\n"
   ]
  },
  {
   "cell_type": "code",
   "execution_count": null,
   "id": "795a2dcd-bc7e-46c2-a6af-14259d6b628c",
   "metadata": {},
   "outputs": [],
   "source": []
  }
 ],
 "metadata": {
  "kernelspec": {
   "display_name": "Python 3 (ipykernel)",
   "language": "python",
   "name": "python3"
  },
  "language_info": {
   "codemirror_mode": {
    "name": "ipython",
    "version": 3
   },
   "file_extension": ".py",
   "mimetype": "text/x-python",
   "name": "python",
   "nbconvert_exporter": "python",
   "pygments_lexer": "ipython3",
   "version": "3.12.7"
  }
 },
 "nbformat": 4,
 "nbformat_minor": 5
}
