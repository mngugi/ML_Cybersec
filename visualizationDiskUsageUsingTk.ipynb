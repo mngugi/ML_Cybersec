{
 "cells": [
  {
   "cell_type": "code",
   "execution_count": 2,
   "id": "9537dfee-5b97-4dea-bb92-96b2792f5b82",
   "metadata": {},
   "outputs": [],
   "source": [
    "import psutil\n",
    "import time\n",
    "import tkinter as tk\n",
    "\n",
    "def update_disk_usage():\n",
    "    # Get disk usage statistics\n",
    "    disk_usage = psutil.disk_usage('/')\n",
    "    \n",
    "    # Update labels with disk usage information\n",
    "    total_var.set(f\"Total: {disk_usage.total / (1024 ** 3):.2f} GB\")\n",
    "    used_var.set(f\"Used: {disk_usage.used / (1024 ** 3):.2f} GB\")\n",
    "    free_var.set(f\"Free: {disk_usage.free / (1024 ** 3):.2f} GB\")\n",
    "    percent_var.set(f\"Percentage Used: {disk_usage.percent}%\")\n",
    "    \n",
    "    # Schedule the next update\n",
    "    root.after(1000, update_disk_usage)\n",
    "\n",
    "# Create the main window\n",
    "root = tk.Tk()\n",
    "root.title(\"Disk Usage Monitor\")\n",
    "\n",
    "# Create StringVar to hold the disk usage information\n",
    "total_var = tk.StringVar()\n",
    "used_var = tk.StringVar()\n",
    "free_var = tk.StringVar()\n",
    "percent_var = tk.StringVar()\n",
    "\n",
    "# Create labels to display the information\n",
    "tk.Label(root, textvariable=total_var).pack()\n",
    "tk.Label(root, textvariable=used_var).pack()\n",
    "tk.Label(root, textvariable=free_var).pack()\n",
    "tk.Label(root, textvariable=percent_var).pack()\n",
    "\n",
    "# Start updating the disk usage\n",
    "update_disk_usage()\n",
    "\n",
    "# Start the GUI event loop\n",
    "root.mainloop()\n"
   ]
  },
  {
   "cell_type": "code",
   "execution_count": null,
   "id": "a123de27-eaad-4fe0-90d1-7cec1a3e6bac",
   "metadata": {},
   "outputs": [],
   "source": []
  }
 ],
 "metadata": {
  "kernelspec": {
   "display_name": "Python 3 (ipykernel)",
   "language": "python",
   "name": "python3"
  },
  "language_info": {
   "codemirror_mode": {
    "name": "ipython",
    "version": 3
   },
   "file_extension": ".py",
   "mimetype": "text/x-python",
   "name": "python",
   "nbconvert_exporter": "python",
   "pygments_lexer": "ipython3",
   "version": "3.12.2"
  }
 },
 "nbformat": 4,
 "nbformat_minor": 5
}
