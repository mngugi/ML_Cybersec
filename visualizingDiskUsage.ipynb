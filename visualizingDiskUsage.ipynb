{
 "cells": [
  {
   "cell_type": "code",
   "execution_count": null,
   "id": "4f318da0-145a-49dc-b136-e24e8945877b",
   "metadata": {},
   "outputs": [],
   "source": [
    "import psutil\n",
    "import time\n",
    "import matplotlib.pyplot as plt\n",
    "from collections import deque\n",
    "from datetime import datetime\n",
    "\n",
    "def display_disk_usage():\n",
    "    max_points = 30  # Keep only the last 30 records\n",
    "    timestamps = deque(maxlen=max_points)\n",
    "    used_space = deque(maxlen=max_points)\n",
    "    free_space = deque(maxlen=max_points)\n",
    "\n",
    "    plt.ion()  # Turn on interactive mode\n",
    "    fig, ax = plt.subplots()\n",
    "\n",
    "    try:\n",
    "        while True:\n",
    "            # Get disk usage statistics\n",
    "            disk_usage = psutil.disk_usage('/')\n",
    "\n",
    "            # Append data with a fixed max length\n",
    "            timestamps.append(datetime.now().strftime(\"%H:%M:%S\"))\n",
    "            used_space.append(disk_usage.used / (1024 ** 3))  # Convert to GB\n",
    "            free_space.append(disk_usage.free / (1024 ** 3))  # Convert to GB\n",
    "\n",
    "            # Clear the plot\n",
    "            ax.clear()\n",
    "\n",
    "            # Plot the data\n",
    "            ax.plot(timestamps, used_space, label='Used Space (GB)', color='red')\n",
    "            ax.plot(timestamps, free_space, label='Free Space (GB)', color='green')\n",
    "\n",
    "            # Formatting the plot\n",
    "            ax.set_xlabel('Time')\n",
    "            ax.set_ylabel('Disk Space (GB)')\n",
    "            ax.set_title('Real-Time Disk Usage')\n",
    "            ax.legend()\n",
    "            plt.xticks(rotation=45)\n",
    "            plt.tight_layout()\n",
    "\n",
    "            # Force update the plot\n",
    "            plt.draw()\n",
    "            plt.pause(0.1)  # Small delay\n",
    "\n",
    "            time.sleep(1)  # Reduce CPU usage\n",
    "    except KeyboardInterrupt:\n",
    "        print(\"\\nMonitoring stopped.\")\n",
    "        plt.ioff()\n",
    "        plt.show()  # Ensures final plot remains visible\n",
    "\n",
    "if __name__ == \"__main__\":\n",
    "    display_disk_usage()\n"
   ]
  },
  {
   "cell_type": "code",
   "execution_count": null,
   "id": "b2c881cc-0e70-43cd-a1ad-03debfc073b1",
   "metadata": {},
   "outputs": [],
   "source": []
  },
  {
   "cell_type": "code",
   "execution_count": null,
   "id": "5a4f21e9-1752-4380-8010-d8d3f8609875",
   "metadata": {},
   "outputs": [],
   "source": []
  }
 ],
 "metadata": {
  "kernelspec": {
   "display_name": "Python 3 (ipykernel)",
   "language": "python",
   "name": "python3"
  },
  "language_info": {
   "codemirror_mode": {
    "name": "ipython",
    "version": 3
   },
   "file_extension": ".py",
   "mimetype": "text/x-python",
   "name": "python",
   "nbconvert_exporter": "python",
   "pygments_lexer": "ipython3",
   "version": "3.12.2"
  }
 },
 "nbformat": 4,
 "nbformat_minor": 5
}
