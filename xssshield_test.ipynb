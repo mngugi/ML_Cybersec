{
 "cells": [
  {
   "cell_type": "code",
   "execution_count": 4,
   "id": "b54626cb-70ec-4423-b9db-5c80281b1240",
   "metadata": {},
   "outputs": [],
   "source": [
    "import xss_shield\n",
    "unsafe_str = '<script>alert(\"Bad.\");</script>'\n",
    "safe_str = xss_shield.escape(unsafe_str)"
   ]
  },
  {
   "cell_type": "code",
   "execution_count": null,
   "id": "de59b7e8-91b8-46eb-b7b6-79a90dc4282e",
   "metadata": {},
   "outputs": [],
   "source": []
  }
 ],
 "metadata": {
  "kernelspec": {
   "display_name": "Python 3 (ipykernel)",
   "language": "python",
   "name": "python3"
  },
  "language_info": {
   "codemirror_mode": {
    "name": "ipython",
    "version": 3
   },
   "file_extension": ".py",
   "mimetype": "text/x-python",
   "name": "python",
   "nbconvert_exporter": "python",
   "pygments_lexer": "ipython3",
   "version": "3.12.3"
  }
 },
 "nbformat": 4,
 "nbformat_minor": 5
}
